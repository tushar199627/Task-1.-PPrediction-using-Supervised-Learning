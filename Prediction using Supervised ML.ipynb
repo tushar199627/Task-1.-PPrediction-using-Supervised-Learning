{
 "cells": [
  {
   "cell_type": "markdown",
   "id": "a6112caf-9034-435b-bb63-98af4f8140fa",
   "metadata": {},
   "source": [
    "# GRIP @ The Sparks Foundation"
   ]
  },
  {
   "cell_type": "markdown",
   "id": "d799453b-be99-460d-8719-be1f9f39480a",
   "metadata": {},
   "source": [
    "# Author : Tushar Barai"
   ]
  },
  {
   "cell_type": "markdown",
   "id": "89251813-db50-479f-91d2-9eee238f2f75",
   "metadata": {},
   "source": [
    "## Task 1 : Prediction using Supervised Learning ( Simple Linear Regression)"
   ]
  },
  {
   "cell_type": "markdown",
   "id": "e48c9a8d-cc58-4af0-a607-b24a225933e4",
   "metadata": {},
   "source": [
    "In this regression we will predict the percentsge of a student based on the number of study hours a day. This is a simple linear regression task as it involves just two variables."
   ]
  },
  {
   "cell_type": "markdown",
   "id": "7e824956-2b99-42fe-b2d8-34db6acc4211",
   "metadata": {},
   "source": [
    "#### Tool used : JupyterLab, Sikit Learn, Numpy, Matplotlib, pandas"
   ]
  },
  {
   "cell_type": "markdown",
   "id": "df679225-24ef-4557-a1f9-9fbedb8ba444",
   "metadata": {},
   "source": [
    "#### Q. What will be the predicted score if a student studies for 9.25 hours a day?"
   ]
  },
  {
   "cell_type": "markdown",
   "id": "45b41670-6061-402c-a5e9-67c1c451c6b6",
   "metadata": {},
   "source": [
    "# Supervised Learning :"
   ]
  },
  {
   "cell_type": "markdown",
   "id": "b6796b61-71a3-4047-b983-aa2505358326",
   "metadata": {},
   "source": [
    "##### Supervised learning, as the name indicates, has the presence of a supervisor as a teacher. Basically supervised learning is when we teach or train the machine using data that is well labeled. Which means some data is already tagged with the correct answer. After that, the machine is provided with a new set of examples(data) so that the supervised learning algorithm analyses the training data(set of training examples) and produces a correct outcome from labeled data. "
   ]
  },
  {
   "cell_type": "code",
   "execution_count": 1,
   "id": "79268ac4-8fc6-49dc-aa0e-2f51de2315a3",
   "metadata": {},
   "outputs": [],
   "source": [
    "# Importing all libraries required in this notebook\n",
    "import pandas as pd\n",
    "import numpy as np  \n",
    "import matplotlib.pyplot as plt  \n",
    "%matplotlib inline"
   ]
  },
  {
   "cell_type": "markdown",
   "id": "c81d1158-02f8-4ba0-8ccd-1c041c3e0d88",
   "metadata": {},
   "source": [
    "# 1. Reading the dataset "
   ]
  },
  {
   "cell_type": "code",
   "execution_count": 3,
   "id": "1c1f7686-2f3d-486f-a638-9f031f01ceb9",
   "metadata": {},
   "outputs": [
    {
     "name": "stdout",
     "output_type": "stream",
     "text": [
      "Data imported successfully\n"
     ]
    },
    {
     "data": {
      "text/html": [
       "<div>\n",
       "<style scoped>\n",
       "    .dataframe tbody tr th:only-of-type {\n",
       "        vertical-align: middle;\n",
       "    }\n",
       "\n",
       "    .dataframe tbody tr th {\n",
       "        vertical-align: top;\n",
       "    }\n",
       "\n",
       "    .dataframe thead th {\n",
       "        text-align: right;\n",
       "    }\n",
       "</style>\n",
       "<table border=\"1\" class=\"dataframe\">\n",
       "  <thead>\n",
       "    <tr style=\"text-align: right;\">\n",
       "      <th></th>\n",
       "      <th>Hours</th>\n",
       "      <th>Scores</th>\n",
       "    </tr>\n",
       "  </thead>\n",
       "  <tbody>\n",
       "    <tr>\n",
       "      <th>0</th>\n",
       "      <td>2.5</td>\n",
       "      <td>21</td>\n",
       "    </tr>\n",
       "    <tr>\n",
       "      <th>1</th>\n",
       "      <td>5.1</td>\n",
       "      <td>47</td>\n",
       "    </tr>\n",
       "    <tr>\n",
       "      <th>2</th>\n",
       "      <td>3.2</td>\n",
       "      <td>27</td>\n",
       "    </tr>\n",
       "    <tr>\n",
       "      <th>3</th>\n",
       "      <td>8.5</td>\n",
       "      <td>75</td>\n",
       "    </tr>\n",
       "    <tr>\n",
       "      <th>4</th>\n",
       "      <td>3.5</td>\n",
       "      <td>30</td>\n",
       "    </tr>\n",
       "    <tr>\n",
       "      <th>5</th>\n",
       "      <td>1.5</td>\n",
       "      <td>20</td>\n",
       "    </tr>\n",
       "    <tr>\n",
       "      <th>6</th>\n",
       "      <td>9.2</td>\n",
       "      <td>88</td>\n",
       "    </tr>\n",
       "    <tr>\n",
       "      <th>7</th>\n",
       "      <td>5.5</td>\n",
       "      <td>60</td>\n",
       "    </tr>\n",
       "    <tr>\n",
       "      <th>8</th>\n",
       "      <td>8.3</td>\n",
       "      <td>81</td>\n",
       "    </tr>\n",
       "    <tr>\n",
       "      <th>9</th>\n",
       "      <td>2.7</td>\n",
       "      <td>25</td>\n",
       "    </tr>\n",
       "    <tr>\n",
       "      <th>10</th>\n",
       "      <td>7.7</td>\n",
       "      <td>85</td>\n",
       "    </tr>\n",
       "    <tr>\n",
       "      <th>11</th>\n",
       "      <td>5.9</td>\n",
       "      <td>62</td>\n",
       "    </tr>\n",
       "    <tr>\n",
       "      <th>12</th>\n",
       "      <td>4.5</td>\n",
       "      <td>41</td>\n",
       "    </tr>\n",
       "    <tr>\n",
       "      <th>13</th>\n",
       "      <td>3.3</td>\n",
       "      <td>42</td>\n",
       "    </tr>\n",
       "    <tr>\n",
       "      <th>14</th>\n",
       "      <td>1.1</td>\n",
       "      <td>17</td>\n",
       "    </tr>\n",
       "    <tr>\n",
       "      <th>15</th>\n",
       "      <td>8.9</td>\n",
       "      <td>95</td>\n",
       "    </tr>\n",
       "    <tr>\n",
       "      <th>16</th>\n",
       "      <td>2.5</td>\n",
       "      <td>30</td>\n",
       "    </tr>\n",
       "    <tr>\n",
       "      <th>17</th>\n",
       "      <td>1.9</td>\n",
       "      <td>24</td>\n",
       "    </tr>\n",
       "    <tr>\n",
       "      <th>18</th>\n",
       "      <td>6.1</td>\n",
       "      <td>67</td>\n",
       "    </tr>\n",
       "    <tr>\n",
       "      <th>19</th>\n",
       "      <td>7.4</td>\n",
       "      <td>69</td>\n",
       "    </tr>\n",
       "    <tr>\n",
       "      <th>20</th>\n",
       "      <td>2.7</td>\n",
       "      <td>30</td>\n",
       "    </tr>\n",
       "    <tr>\n",
       "      <th>21</th>\n",
       "      <td>4.8</td>\n",
       "      <td>54</td>\n",
       "    </tr>\n",
       "    <tr>\n",
       "      <th>22</th>\n",
       "      <td>3.8</td>\n",
       "      <td>35</td>\n",
       "    </tr>\n",
       "    <tr>\n",
       "      <th>23</th>\n",
       "      <td>6.9</td>\n",
       "      <td>76</td>\n",
       "    </tr>\n",
       "    <tr>\n",
       "      <th>24</th>\n",
       "      <td>7.8</td>\n",
       "      <td>86</td>\n",
       "    </tr>\n",
       "  </tbody>\n",
       "</table>\n",
       "</div>"
      ],
      "text/plain": [
       "    Hours  Scores\n",
       "0     2.5      21\n",
       "1     5.1      47\n",
       "2     3.2      27\n",
       "3     8.5      75\n",
       "4     3.5      30\n",
       "5     1.5      20\n",
       "6     9.2      88\n",
       "7     5.5      60\n",
       "8     8.3      81\n",
       "9     2.7      25\n",
       "10    7.7      85\n",
       "11    5.9      62\n",
       "12    4.5      41\n",
       "13    3.3      42\n",
       "14    1.1      17\n",
       "15    8.9      95\n",
       "16    2.5      30\n",
       "17    1.9      24\n",
       "18    6.1      67\n",
       "19    7.4      69\n",
       "20    2.7      30\n",
       "21    4.8      54\n",
       "22    3.8      35\n",
       "23    6.9      76\n",
       "24    7.8      86"
      ]
     },
     "execution_count": 3,
     "metadata": {},
     "output_type": "execute_result"
    }
   ],
   "source": [
    "# Reading data from remote link\n",
    "url = \"http://bit.ly/w-data\"\n",
    "s_data = pd.read_csv(url)\n",
    "print(\"Data imported successfully\")\n",
    "\n",
    "s_data.head(25)"
   ]
  },
  {
   "cell_type": "markdown",
   "id": "44e70cd8-bb9d-4bdd-aa8d-b3959276074d",
   "metadata": {},
   "source": [
    "Here is all the data of study hour and marks socred of a student "
   ]
  },
  {
   "cell_type": "markdown",
   "id": "9e19dee2-a95c-4578-84b0-c212ca2c3c6b",
   "metadata": {},
   "source": [
    "# 2. Plotting the data Point on 2-D graph:"
   ]
  },
  {
   "cell_type": "code",
   "execution_count": 4,
   "id": "b48137ae-872d-4995-b5a5-11753f227fec",
   "metadata": {},
   "outputs": [
    {
     "data": {
      "image/png": "[encoded data removed]",
      "text/plain": [
       "<Figure size 432x288 with 1 Axes>"
      ]
     },
     "metadata": {
      "needs_background": "light"
     },
     "output_type": "display_data"
    }
   ],
   "source": [
    "# Plotting the distribution of scores\n",
    "s_data.plot(x='Hours', y='Scores', style='o')  \n",
    "plt.title('Hours vs Percentage')  \n",
    "plt.xlabel('Hours Studied')  \n",
    "plt.ylabel('Percentage Score')  \n",
    "plt.show()"
   ]
  },
  {
   "cell_type": "markdown",
   "id": "0d0a3fbd-9471-440b-8833-8688210b715e",
   "metadata": {},
   "source": [
    "##### From the graph above, we can clearly see that there is a positive linear relation between the number of hours studied and percentage of score."
   ]
  },
  {
   "cell_type": "markdown",
   "id": "78138106-a9f1-47c2-9b3e-1868ac3b9001",
   "metadata": {},
   "source": [
    "# 3. Processing the Data"
   ]
  },
  {
   "cell_type": "markdown",
   "id": "55afe679-6684-4f6d-b7ea-8e685b1bce8e",
   "metadata": {},
   "source": [
    "##### The next step is to divide the data into \"attributes\" (inputs) and \"labels\" (outputs)."
   ]
  },
  {
   "cell_type": "code",
   "execution_count": 5,
   "id": "04da1c0a-c83b-4163-b37c-7a988bc9c95c",
   "metadata": {},
   "outputs": [],
   "source": [
    "X = s_data.iloc[:, :-1].values  \n",
    "y = s_data.iloc[:, 1].values "
   ]
  },
  {
   "cell_type": "markdown",
   "id": "ed6e59b4-4e3b-4c0c-a378-709336eb15e7",
   "metadata": {},
   "source": [
    "Now that we have our attributes and labels."
   ]
  },
  {
   "cell_type": "code",
   "execution_count": 6,
   "id": "e12289c2-0024-4d4f-98fc-2fd7df665f55",
   "metadata": {},
   "outputs": [],
   "source": [
    "from sklearn.model_selection import train_test_split  \n",
    "X_train, X_test, y_train, y_test = train_test_split(X, y, \n",
    "                            test_size=0.2, random_state=0) "
   ]
  },
  {
   "cell_type": "markdown",
   "id": "48c3dc01-32ed-4b34-bfb5-be4446903d47",
   "metadata": {},
   "source": [
    "##### Here we have split the data into traning and test sets."
   ]
  },
  {
   "cell_type": "markdown",
   "id": "582180bb-e797-4eab-86a2-58b67d15a25b",
   "metadata": {},
   "source": [
    "# 4. Training the Model Algorithm"
   ]
  },
  {
   "cell_type": "code",
   "execution_count": 7,
   "id": "e4cdd9f6-411a-4e8d-9dc7-57a3495d9dac",
   "metadata": {},
   "outputs": [
    {
     "name": "stdout",
     "output_type": "stream",
     "text": [
      "Training complete.\n"
     ]
    }
   ],
   "source": [
    "from sklearn.linear_model import LinearRegression  \n",
    "regressor = LinearRegression()  \n",
    "regressor.fit(X_train, y_train) \n",
    "\n",
    "print(\"Training complete.\")"
   ]
  },
  {
   "cell_type": "markdown",
   "id": "e309d0fb-b050-46f0-96c4-046a2d12eb5b",
   "metadata": {},
   "source": [
    "# 5. Plotting the regression line"
   ]
  },
  {
   "cell_type": "code",
   "execution_count": 8,
   "id": "94a78a11-697b-486d-8910-d77c695787b2",
   "metadata": {},
   "outputs": [
    {
     "data": {
      "image/png": "[encoded data removed]",
      "text/plain": [
       "<Figure size 432x288 with 1 Axes>"
      ]
     },
     "metadata": {
      "needs_background": "light"
     },
     "output_type": "display_data"
    }
   ],
   "source": [
    "# Plotting the regression line\n",
    "line = regressor.coef_*X+regressor.intercept_\n",
    "\n",
    "# Plotting for the test data\n",
    "plt.scatter(X, y)\n",
    "plt.plot(X, line);\n",
    "plt.show()"
   ]
  },
  {
   "cell_type": "markdown",
   "id": "b3b1cacc-cb98-4827-962a-40185456a6c1",
   "metadata": {},
   "source": [
    "# 6. Marks Predictions"
   ]
  },
  {
   "cell_type": "markdown",
   "id": "dbdf70ce-73f9-41d7-a797-bf74e1d1f3aa",
   "metadata": {},
   "source": [
    "##### Now that we have trained our algorithm, it's time to make some predictions"
   ]
  },
  {
   "cell_type": "markdown",
   "id": "921951bc-cce7-420f-9e85-fdeab3a5a6fb",
   "metadata": {},
   "source": [
    "We will use the test dataset for prediction"
   ]
  },
  {
   "cell_type": "code",
   "execution_count": 15,
   "id": "3081d5c1-3505-49d7-ae19-4dac4b4ab317",
   "metadata": {},
   "outputs": [
    {
     "name": "stdout",
     "output_type": "stream",
     "text": [
      "[[1.5]\n",
      " [3.2]\n",
      " [7.4]\n",
      " [2.5]\n",
      " [5.9]]\n",
      "[16.88414476 33.73226078 75.357018   26.79480124 60.49103328]\n"
     ]
    }
   ],
   "source": [
    "print(X_test) # Testing data - In Hours\n",
    "y_pred = regressor.predict(X_test)\n",
    "print(y_pred) # Predicting the scores"
   ]
  },
  {
   "cell_type": "markdown",
   "id": "f60139b8-33d3-49cd-be97-da8df181b8d4",
   "metadata": {},
   "source": [
    "# 7. Visualising the training set results"
   ]
  },
  {
   "cell_type": "code",
   "execution_count": 18,
   "id": "a6dda98c-a971-4f44-8606-d987b5e13bb9",
   "metadata": {},
   "outputs": [
    {
     "data": {
      "image/png": "[encoded data removed]",
      "text/plain": [
       "<Figure size 432x288 with 1 Axes>"
      ]
     },
     "metadata": {
      "needs_background": "light"
     },
     "output_type": "display_data"
    }
   ],
   "source": [
    "# Visualising the traning set results\n",
    "plt.scatter(X_train, y_train, color = 'blue')\n",
    "plt.scatter(X_train, regressor.predict(X_train), color = 'red')\n",
    "plt.title('Hours Vs. Percentage (Training set)')\n",
    "plt.xlabel('Hour Studied')\n",
    "plt.ylabel('Percentage of Marks')\n",
    "plt.show()"
   ]
  },
  {
   "cell_type": "markdown",
   "id": "16ec64bd-3235-40c9-93ef-1019b7bd23c2",
   "metadata": {},
   "source": [
    "# 8. Visualising the test set results"
   ]
  },
  {
   "cell_type": "code",
   "execution_count": 19,
   "id": "72756497-1a46-4e4b-afdc-26ef4e91979f",
   "metadata": {},
   "outputs": [
    {
     "data": {
      "image/png": "[encoded data removed]",
      "text/plain": [
       "<Figure size 432x288 with 1 Axes>"
      ]
     },
     "metadata": {
      "needs_background": "light"
     },
     "output_type": "display_data"
    }
   ],
   "source": [
    "# Visualising the test set results\n",
    "plt.scatter(X_test, y_test, color = 'blue')\n",
    "plt.scatter(X_test, regressor.predict(X_test), color = 'red')\n",
    "plt.title('Hours Vs. Percentage (Test set)')\n",
    "plt.xlabel('Hour Studied')\n",
    "plt.ylabel('Percentage of Marks')\n",
    "plt.show()"
   ]
  },
  {
   "cell_type": "markdown",
   "id": "bd177198-a5c8-4066-8694-1620cefca806",
   "metadata": {},
   "source": [
    "# 9. Comparing the Actual result with the predicted result"
   ]
  },
  {
   "cell_type": "code",
   "execution_count": 20,
   "id": "d5a0b608-7636-40e7-95fa-8d4eede89668",
   "metadata": {},
   "outputs": [
    {
     "data": {
      "text/html": [
       "<div>\n",
       "<style scoped>\n",
       "    .dataframe tbody tr th:only-of-type {\n",
       "        vertical-align: middle;\n",
       "    }\n",
       "\n",
       "    .dataframe tbody tr th {\n",
       "        vertical-align: top;\n",
       "    }\n",
       "\n",
       "    .dataframe thead th {\n",
       "        text-align: right;\n",
       "    }\n",
       "</style>\n",
       "<table border=\"1\" class=\"dataframe\">\n",
       "  <thead>\n",
       "    <tr style=\"text-align: right;\">\n",
       "      <th></th>\n",
       "      <th>Actual</th>\n",
       "      <th>Predicted</th>\n",
       "    </tr>\n",
       "  </thead>\n",
       "  <tbody>\n",
       "    <tr>\n",
       "      <th>0</th>\n",
       "      <td>20</td>\n",
       "      <td>16.884145</td>\n",
       "    </tr>\n",
       "    <tr>\n",
       "      <th>1</th>\n",
       "      <td>27</td>\n",
       "      <td>33.732261</td>\n",
       "    </tr>\n",
       "    <tr>\n",
       "      <th>2</th>\n",
       "      <td>69</td>\n",
       "      <td>75.357018</td>\n",
       "    </tr>\n",
       "    <tr>\n",
       "      <th>3</th>\n",
       "      <td>30</td>\n",
       "      <td>26.794801</td>\n",
       "    </tr>\n",
       "    <tr>\n",
       "      <th>4</th>\n",
       "      <td>62</td>\n",
       "      <td>60.491033</td>\n",
       "    </tr>\n",
       "  </tbody>\n",
       "</table>\n",
       "</div>"
      ],
      "text/plain": [
       "   Actual  Predicted\n",
       "0      20  16.884145\n",
       "1      27  33.732261\n",
       "2      69  75.357018\n",
       "3      30  26.794801\n",
       "4      62  60.491033"
      ]
     },
     "execution_count": 20,
     "metadata": {},
     "output_type": "execute_result"
    }
   ],
   "source": [
    "# Comparing Actual vs Predicted\n",
    "df = pd.DataFrame({'Actual': y_test, 'Predicted': y_pred})  \n",
    "df "
   ]
  },
  {
   "cell_type": "markdown",
   "id": "e0647d1f-5863-45f2-baa4-088b32e41311",
   "metadata": {},
   "source": [
    "# 10. Predicting the score with our own Data"
   ]
  },
  {
   "cell_type": "code",
   "execution_count": 26,
   "id": "c27a5c04-7d46-4be8-9c11-18c3620db39c",
   "metadata": {},
   "outputs": [
    {
     "name": "stdout",
     "output_type": "stream",
     "text": [
      "Predicted Score, if a student studies for 9.25 hours a day = [93.69173249].\n"
     ]
    }
   ],
   "source": [
    "# You can also test with your own data\n",
    "data = np.array(9.25)\n",
    "data = data.reshape(-1, 1)\n",
    "pred = regressor.predict(data)\n",
    "print(\"Predicted Score, if a student studies for 9.25 hours a day = {}.\".format(pred))"
   ]
  },
  {
   "cell_type": "markdown",
   "id": "26775ceb-2ec7-4683-9021-0cdeba2b02f5",
   "metadata": {},
   "source": [
    "# 11. Evaluating the model"
   ]
  },
  {
   "cell_type": "markdown",
   "id": "99217cde-2d6c-48f0-a881-d26734fbe588",
   "metadata": {},
   "source": [
    "##### The final step is to evaluate the performance of algorithm. This step is particularly important to compare how well different algorithms perform on a particular dataset. For simplicity here, we have chosen the mean square error. There are many such metrics."
   ]
  },
  {
   "cell_type": "code",
   "execution_count": 28,
   "id": "b163e6dc-464c-4621-8e3f-dbed492ffbac",
   "metadata": {},
   "outputs": [
    {
     "name": "stdout",
     "output_type": "stream",
     "text": [
      "Mean Absolute Error: 4.183859899002975\n"
     ]
    }
   ],
   "source": [
    "from sklearn import metrics  \n",
    "print('Mean Absolute Error:', \n",
    "      metrics.mean_absolute_error(y_test, y_pred))"
   ]
  },
  {
   "cell_type": "markdown",
   "id": "4b8b5805-e8e9-4f9c-9f6c-882786f78492",
   "metadata": {},
   "source": [
    "# 12. Conclusion"
   ]
  },
  {
   "cell_type": "markdown",
   "id": "e26b9be7-e844-4af9-aa07-ec832fcb90e1",
   "metadata": {},
   "source": [
    "##### Here we successfully predicted the score of student based on the study hour using Supervised Machine Learning and able to evaluate the model on various parameters.\n",
    "\n",
    "##### We got 93.69173249 as a prediction score on studying for 9.25 hours a day.\n"
   ]
  },
  {
   "cell_type": "markdown",
   "id": "92976932-cd60-4aea-93b4-9b5a026efd24",
   "metadata": {},
   "source": [
    "#                                    Thank You"
   ]
  }
 ],
 "metadata": {
  "kernelspec": {
   "display_name": "Python 3",
   "language": "python",
   "name": "python3"
  },
  "language_info": {
   "codemirror_mode": {
    "name": "ipython",
    "version": 3
   },
   "file_extension": ".py",
   "mimetype": "text/x-python",
   "name": "python",
   "nbconvert_exporter": "python",
   "pygments_lexer": "ipython3",
   "version": "3.7.9"
  }
 },
 "nbformat": 4,
 "nbformat_minor": 5
}
